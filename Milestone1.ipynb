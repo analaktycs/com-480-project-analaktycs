{
  "nbformat": 4,
  "nbformat_minor": 0,
  "metadata": {
    "colab": {
      "name": "Milestone1.ipynb",
      "provenance": [],
      "collapsed_sections": [
        "h3i-P0-jOBj8"
      ]
    },
    "kernelspec": {
      "name": "python3",
      "display_name": "Python 3"
    }
  },
  "cells": [
    {
      "cell_type": "markdown",
      "metadata": {
        "id": "7hp2UItlM9wB",
        "colab_type": "text"
      },
      "source": [
        "# Milestone 1"
      ]
    },
    {
      "cell_type": "code",
      "metadata": {
        "id": "nuczkz45KJo4",
        "colab_type": "code",
        "colab": {}
      },
      "source": [
        "import pandas as pd\n",
        "import numpy as np\n",
        "import matplotlib.pyplot as plt\n",
        "import seaborn as sns"
      ],
      "execution_count": 0,
      "outputs": []
    },
    {
      "cell_type": "markdown",
      "metadata": {
        "id": "YPb1OJxlNb3O",
        "colab_type": "text"
      },
      "source": [
        "## Dataset\n",
        "\n",
        "\n",
        "* Find a dataset (or multiple) that you will explore. Assess the quality of the data it contains and how much preprocessing / data-cleaning it will require before tackling visualization. We recommend using a standard dataset as this course is not about scraping nor data processing."
      ]
    },
    {
      "cell_type": "markdown",
      "metadata": {
        "id": "lj3AbVQzO1sN",
        "colab_type": "text"
      },
      "source": [
        ""
      ]
    },
    {
      "cell_type": "markdown",
      "metadata": {
        "id": "2rD19fcpNhNY",
        "colab_type": "text"
      },
      "source": [
        "## Problematic\n",
        "\n",
        "* Frame the general topic of your visualization and the main axis that you want to develop.\n",
        "\n",
        "  * What am I trying to show with my visualization?\n",
        "  * Think of an overview for the project, your motivation, and the target audience."
      ]
    },
    {
      "cell_type": "markdown",
      "metadata": {
        "id": "OuUH6g8LO1Iz",
        "colab_type": "text"
      },
      "source": [
        ""
      ]
    },
    {
      "cell_type": "markdown",
      "metadata": {
        "id": "L6VZNEZYNivv",
        "colab_type": "text"
      },
      "source": [
        "## Exploratory Data Analysis\n",
        "\n",
        "* Pre-processing of the data set you chose:\n",
        "\n",
        "  * Show some basic statistics and get insights about the data"
      ]
    },
    {
      "cell_type": "markdown",
      "metadata": {
        "id": "oG3gR8rzK5Yd",
        "colab_type": "text"
      },
      "source": [
        "### Feature-group 1\n",
        "1. If any of your features need preprocessing, preprocess it. \n",
        "\n",
        "2. Plot the distribution (i.e. histogram / bar chart ) of each feature. \n",
        "\n",
        "3. Plot scatterplots between meaningful pairs of features to identify any possible correlation. Also compute the correlation coefficients (Pearson and Spearman). \n",
        "\n",
        "4. Also consider any possible correlations that could occur between your set of features and the features from other groups.\n",
        "\n",
        "5. EXPLAIN WHY FOR EACH OF THESE COMPUTATIONS"
      ]
    },
    {
      "cell_type": "markdown",
      "metadata": {
        "id": "7yntZTyBLP-w",
        "colab_type": "text"
      },
      "source": [
        "\t•\tpercentage_male: The percentage of the species that are male. Blank if the Pokemon is genderless.\n",
        "\t•\ttype1: The Primary Type of the Pokemon\n",
        "\t•\ttype2: The Secondary Type of the Pokemon\n",
        "\t•\tclassification: The Classification of the Pokemon as described by the Sun and Moon Pokedex\n",
        "\t•\theight_m: Height of the Pokemon in metres\n",
        "\t•\tweight_kg: The Weight of the Pokemon in kilograms\n",
        "\t•\tcapture_rate: Capture Rate of the Pokemon\n",
        "\t•\tabilities: A stringified list of abilities that the Pokemon is capable of having\n",
        "\t•\texperience_growth: The Experience Growth of the Pokemon"
      ]
    },
    {
      "cell_type": "markdown",
      "metadata": {
        "id": "XCdXaQAjK-wL",
        "colab_type": "text"
      },
      "source": [
        "### Feature-group 2\n",
        "1. If any of your features need preprocessing, preprocess it. \n",
        "\n",
        "2. Plot the distribution (i.e. histogram / bar chart ) of each feature. \n",
        "\n",
        "3. Plot scatterplots between meaningful pairs of features to identify any possible correlation. Also compute the correlation coefficients (Pearson and Spearman). \n",
        "\n",
        "4. Also consider any possible correlations that could occur between your set of features and the features from other groups.\n",
        "\n",
        "5. EXPLAIN WHY FOR EACH OF THESE COMPUTATIONS"
      ]
    },
    {
      "cell_type": "markdown",
      "metadata": {
        "id": "27OQZB6CLSPa",
        "colab_type": "text"
      },
      "source": [
        "\n",
        "\n",
        "\t•\tagainst_?: Eighteen features that denote the amount of damage taken against an attack of a particular type\n",
        "\t•\thp: The Base HP of the Pokemon\n",
        "\t•\tattack: The Base Attack of the Pokemon\n",
        "\t•\tdefense: The Base Defense of the Pokemon\n",
        "\t•\tsp_attack: The Base Special Attack of the Pokemon\n",
        "\t•\tsp_defense: The Base Special Defense of the Pokemon\n",
        "\t•\tspeed: The Base Speed of the Pokemon\n",
        "\t•\tis_legendary: Denotes if the Pokemon is legendary.\n",
        "\t•\tTotal. Sum of all the base stats (Health Points, Attack, Defense, Special Attack, Special Defense, and Speed)."
      ]
    },
    {
      "cell_type": "markdown",
      "metadata": {
        "id": "V-9D5NKHK_RW",
        "colab_type": "text"
      },
      "source": [
        "### Feature-group 3\n",
        "\n",
        "1. If any of your features need preprocessing, preprocess it. \n",
        "\n",
        "2. Plot the distribution (i.e. histogram / bar chart ) of each feature. \n",
        "\n",
        "3. Plot scatterplots between meaningful pairs of features to identify any possible correlation. Also compute the correlation coefficients (Pearson and Spearman). \n",
        "\n",
        "4. Also consider any possible correlations that could occur between your set of features and the features from other groups.\n",
        "\n",
        "5. EXPLAIN WHY FOR EACH OF THESE COMPUTATIONS"
      ]
    },
    {
      "cell_type": "markdown",
      "metadata": {
        "id": "lzA-pRhDLUx3",
        "colab_type": "text"
      },
      "source": [
        "\t•\tbase_happiness: Base Happiness of the Pokemon\n",
        "\t•\tColor. Color of the Pokémon according to the Pokédex.\n",
        "\t•\thasGender. Boolean that indicates if the Pokémon can be classified as female or male.\n",
        "\t•\tEggGroup1. Egg Group of the Pokémon.\n",
        "\t•\tEggGroup2. Second Egg Group of the Pokémon, in case it has two.\n",
        "\t•\tbaseeggsteps: The number of steps required to hatch an egg of the Pokemon\n",
        "\t•\thasMegaEvolution. Boolean that indicates whether the Pokémon is able to Mega-evolve or not.\n",
        "\t•\tBody_Style. Body Style of the Pokémon according to the Pokédex.\n"
      ]
    },
    {
      "cell_type": "markdown",
      "metadata": {
        "id": "h3i-P0-jOBj8",
        "colab_type": "text"
      },
      "source": [
        "## Related Work\n",
        "\n",
        "* What others have already done with the data?\n",
        "* Why is your approach original?\n",
        "* What source of inspiration do you take? Visualizations that you found on other websites or magazines (might be unrelated to your data).\n",
        "* In case you are using a dataset that you have already explored in another context (ML or ADA course, semester project...), you are required to share the report of that work to outline the differences with the submission for this class."
      ]
    },
    {
      "cell_type": "markdown",
      "metadata": {
        "id": "L7VOSbA6O6QG",
        "colab_type": "text"
      },
      "source": [
        ""
      ]
    }
  ]
}